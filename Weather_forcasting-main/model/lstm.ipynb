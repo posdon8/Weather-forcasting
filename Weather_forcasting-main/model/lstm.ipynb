{
  "cells": [
    {
      "cell_type": "code",
      "execution_count": null,
      "metadata": {
        "id": "qQAlgeIDE_Zy"
      },
      "outputs": [],
      "source": [
        "import pandas as pd\n",
        "import numpy as np\n",
        "import matplotlib.pyplot as plt\n",
        "import seaborn as sns\n",
        "from sklearn.preprocessing import LabelEncoder, StandardScaler\n",
        "from sklearn.model_selection import train_test_split\n",
        "from sklearn.metrics import classification_report, confusion_matrix\n",
        "import tensorflow as tf\n",
        "from tensorflow.keras.models import Sequential\n",
        "from tensorflow.keras.layers import LSTM, Dense, Dropout\n",
        "from tensorflow.keras.utils import to_categorical\n",
        "from keras.preprocessing.sequence import TimeseriesGenerator\n",
        "import matplotlib.pyplot as plt\n",
        "import seaborn as sns"
      ]
    },
    {
      "cell_type": "markdown",
      "metadata": {
        "id": "hORuMFN4ICCn"
      },
      "source": [
        "## Read data"
      ]
    },
    {
      "cell_type": "code",
      "execution_count": null,
      "metadata": {
        "id": "g9fba_BNHex_"
      },
      "outputs": [],
      "source": [
        "path_raw_data = \"../data/raw/dataset.csv\"\n",
        "data = pd.read_csv(path_raw_data)"
      ]
    },
    {
      "cell_type": "markdown",
      "metadata": {
        "id": "YKr8tjkPIG7-"
      },
      "source": [
        "## preprocessing data"
      ]
    },
    {
      "cell_type": "code",
      "execution_count": null,
      "metadata": {
        "id": "zWMeoRuhJLTH"
      },
      "outputs": [],
      "source": [
        "label_encoder = LabelEncoder()\n",
        "data['weather_main_encoded'] = label_encoder.fit_transform(data['weather_main'])\n",
        "\n",
        "# Chọn các đặc trưng cần chuẩn hóa\n",
        "features_to_scale = ['temp', 'pressure', 'grnd_level', 'temp_kf', 'humidity',\n",
        "                     'probability_of_precipitation', 'value_of_precipitation',\n",
        "                     'wind_speed', 'wind_deg', 'wind_gust', 'visibility']"
      ]
    },
    {
      "cell_type": "code",
      "execution_count": null,
      "metadata": {
        "colab": {
          "base_uri": "https://localhost:8080/",
          "height": 507
        },
        "id": "Hz_Z8t5qkL2u",
        "outputId": "a2cec1bc-d882-44f4-9700-26445951bfa5"
      },
      "outputs": [
        {
          "data": {
            "image/png": "[encoded data removed]",
            "text/plain": [
              "<Figure size 640x480 with 1 Axes>"
            ]
          },
          "metadata": {},
          "output_type": "display_data"
        }
      ],
      "source": [
        "class_counts = data['weather_main'].value_counts()\n",
        "class_counts.plot(kind='bar')\n",
        "plt.title('Số lượng mẫu cho mỗi lớp')\n",
        "plt.xlabel('Lớp')\n",
        "plt.ylabel('Số lượng')\n",
        "plt.show()"
      ]
    },
    {
      "cell_type": "code",
      "execution_count": null,
      "metadata": {
        "id": "9nj1ThylSQnU"
      },
      "outputs": [],
      "source": [
        "# chuẩn hóa\n",
        "scaler = StandardScaler()\n",
        "data[features_to_scale] = scaler.fit_transform(data[features_to_scale])"
      ]
    },
    {
      "cell_type": "code",
      "execution_count": null,
      "metadata": {
        "id": "445GKT24qOjt"
      },
      "outputs": [],
      "source": [
        "citys = list(set(data[\"city_name\"].values))\n",
        "time_steps = 40\n",
        "X = []\n",
        "y = []\n",
        "for city in citys:\n",
        "  temp = data[data[\"city_name\"].apply(lambda x: str(x) == city)].sort_values(by=\"forecast_time_07\").reset_index()\n",
        "  features = temp[features_to_scale].values\n",
        "  target = temp['weather_main_encoded'].values\n",
        "  generator = TimeseriesGenerator(features, target, length=time_steps, batch_size=1)\n",
        "  X += [x[0][0] for x in generator]\n",
        "  y += [x[1][0] for x in generator]\n",
        "\n",
        "X = np.array(X)\n",
        "y = np.array(y)"
      ]
    },
    {
      "cell_type": "code",
      "execution_count": null,
      "metadata": {
        "id": "FWlZvLKwyNrI"
      },
      "outputs": [],
      "source": [
        "X_train, X_test, y_train, y_test = train_test_split(X, y, test_size=0.2, random_state=42)"
      ]
    },
    {
      "cell_type": "markdown",
      "metadata": {
        "id": "GuA7PIsqiVhg"
      },
      "source": [
        "### Buil model"
      ]
    },
    {
      "cell_type": "code",
      "execution_count": null,
      "metadata": {
        "colab": {
          "base_uri": "https://localhost:8080/"
        },
        "id": "AmHbj1b3QxhU",
        "outputId": "dee7e19f-023e-4222-aca9-37ec14b2f87a"
      },
      "outputs": [
        {
          "name": "stdout",
          "output_type": "stream",
          "text": [
            "Model: \"sequential\"\n",
            "_________________________________________________________________\n",
            " Layer (type)                Output Shape              Param #   \n",
            "=================================================================\n",
            " lstm (LSTM)                 (None, 40, 64)            19456     \n",
            "                                                                 \n",
            " dropout (Dropout)           (None, 40, 64)            0         \n",
            "                                                                 \n",
            " lstm_1 (LSTM)               (None, 64)                33024     \n",
            "                                                                 \n",
            " dropout_1 (Dropout)         (None, 64)                0         \n",
            "                                                                 \n",
            " dense (Dense)               (None, 3)                 195       \n",
            "                                                                 \n",
            "=================================================================\n",
            "Total params: 52675 (205.76 KB)\n",
            "Trainable params: 52675 (205.76 KB)\n",
            "Non-trainable params: 0 (0.00 Byte)\n",
            "_________________________________________________________________\n"
          ]
        }
      ],
      "source": [
        "# Xây dựng mô hình LSTM\n",
        "model = Sequential()\n",
        "model.add(LSTM(64, activation = 'relu', return_sequences=True, input_shape=(time_steps, 11)))\n",
        "model.add(Dropout(0.2))\n",
        "model.add(LSTM(64, activation = 'relu'))\n",
        "model.add(Dropout(0.2))\n",
        "model.add(Dense(len(label_encoder.classes_), activation='softmax'))\n",
        "\n",
        "model.summary()"
      ]
    },
    {
      "cell_type": "code",
      "execution_count": null,
      "metadata": {
        "colab": {
          "base_uri": "https://localhost:8080/"
        },
        "id": "d6ZugNh7miSV",
        "outputId": "281fd348-8b20-4ec3-cb8d-83f9cd4c3b4f"
      },
      "outputs": [
        {
          "data": {
            "text/plain": [
              "array(['Clear', 'Clouds', 'Rain'], dtype=object)"
            ]
          },
          "execution_count": 11,
          "metadata": {},
          "output_type": "execute_result"
        }
      ],
      "source": [
        "label_encoder.classes_"
      ]
    },
    {
      "cell_type": "code",
      "execution_count": null,
      "metadata": {
        "id": "6_CfmtduQ2Ap"
      },
      "outputs": [],
      "source": [
        "class_weights = {\n",
        "  0: 1.0,  # Lớp \"Clear\"\n",
        "  1: 0.2,  # Lớp \"Clouds\"\n",
        "  2: 0.6,   # Lớp \"Rain\"\n",
        "}\n",
        "model.compile(optimizer='adam', loss='sparse_categorical_crossentropy', metrics=['accuracy'])"
      ]
    },
    {
      "cell_type": "code",
      "execution_count": null,
      "metadata": {
        "colab": {
          "base_uri": "https://localhost:8080/"
        },
        "id": "SpaJscz9SqqY",
        "outputId": "c0dc7d2b-efba-4dec-9878-2c0e0f5f0265"
      },
      "outputs": [
        {
          "name": "stdout",
          "output_type": "stream",
          "text": [
            "Epoch 1/30\n",
            "1182/1182 [==============================] - 85s 72ms/step - loss: 0.1455 - accuracy: 0.7785 - val_loss: 0.5117 - val_accuracy: 0.7658\n",
            "Epoch 2/30\n",
            "1182/1182 [==============================] - 78s 66ms/step - loss: 0.1596 - accuracy: 0.7602 - val_loss: 0.5349 - val_accuracy: 0.7495\n",
            "Epoch 3/30\n",
            "1182/1182 [==============================] - 83s 70ms/step - loss: 0.1522 - accuracy: 0.7708 - val_loss: 0.5103 - val_accuracy: 0.7661\n",
            "Epoch 4/30\n",
            "1182/1182 [==============================] - 79s 67ms/step - loss: 0.1463 - accuracy: 0.7783 - val_loss: 0.5076 - val_accuracy: 0.7655\n",
            "Epoch 5/30\n",
            "1182/1182 [==============================] - 84s 71ms/step - loss: 0.1439 - accuracy: 0.7809 - val_loss: 0.5145 - val_accuracy: 0.7667\n",
            "Epoch 6/30\n",
            "1182/1182 [==============================] - 78s 66ms/step - loss: 0.1419 - accuracy: 0.7827 - val_loss: 0.5210 - val_accuracy: 0.7661\n",
            "Epoch 7/30\n",
            "1182/1182 [==============================] - 81s 68ms/step - loss: 0.1511 - accuracy: 0.7720 - val_loss: 0.5228 - val_accuracy: 0.7558\n",
            "Epoch 8/30\n",
            "1182/1182 [==============================] - 81s 69ms/step - loss: 0.1455 - accuracy: 0.7798 - val_loss: 0.5159 - val_accuracy: 0.7610\n",
            "Epoch 9/30\n",
            "1182/1182 [==============================] - 78s 66ms/step - loss: 3.5769 - accuracy: 0.6728 - val_loss: 40.4645 - val_accuracy: 0.3253\n",
            "Epoch 10/30\n",
            "1182/1182 [==============================] - 85s 72ms/step - loss: 132.2307 - accuracy: 0.3637 - val_loss: 238.5535 - val_accuracy: 0.4448\n",
            "Epoch 11/30\n",
            "1182/1182 [==============================] - 78s 66ms/step - loss: 119.8929 - accuracy: 0.3669 - val_loss: 41.4190 - val_accuracy: 0.2494\n",
            "Epoch 12/30\n",
            "1182/1182 [==============================] - 84s 71ms/step - loss: 103.2436 - accuracy: 0.3924 - val_loss: 1268.8080 - val_accuracy: 0.3197\n",
            "Epoch 13/30\n",
            "1182/1182 [==============================] - 86s 73ms/step - loss: 277.6123 - accuracy: 0.3597 - val_loss: 748.4726 - val_accuracy: 0.2602\n",
            "Epoch 14/30\n",
            "1182/1182 [==============================] - 79s 67ms/step - loss: 334.1461 - accuracy: 0.3549 - val_loss: 550.7798 - val_accuracy: 0.4178\n",
            "Epoch 15/30\n",
            "1182/1182 [==============================] - 84s 71ms/step - loss: 633.5889 - accuracy: 0.3616 - val_loss: 575.6801 - val_accuracy: 0.3186\n",
            "Epoch 16/30\n",
            "1182/1182 [==============================] - 86s 72ms/step - loss: 230.7148 - accuracy: 0.3613 - val_loss: 435.0695 - val_accuracy: 0.3172\n",
            "Epoch 17/30\n",
            "1182/1182 [==============================] - 84s 71ms/step - loss: 438.5182 - accuracy: 0.3615 - val_loss: 817.6115 - val_accuracy: 0.5519\n",
            "Epoch 18/30\n",
            "1182/1182 [==============================] - 81s 68ms/step - loss: 428.2480 - accuracy: 0.3632 - val_loss: 6161.3979 - val_accuracy: 0.2671\n",
            "Epoch 19/30\n",
            "1182/1182 [==============================] - 80s 68ms/step - loss: 575.6714 - accuracy: 0.3622 - val_loss: 3633.6953 - val_accuracy: 0.4620\n",
            "Epoch 20/30\n",
            "1182/1182 [==============================] - 84s 71ms/step - loss: 9259.3379 - accuracy: 0.3650 - val_loss: 11239.5059 - val_accuracy: 0.3581\n",
            "Epoch 21/30\n",
            "1182/1182 [==============================] - 83s 71ms/step - loss: 5302.8408 - accuracy: 0.3601 - val_loss: 5435.0889 - val_accuracy: 0.4043\n",
            "Epoch 22/30\n",
            "1182/1182 [==============================] - 80s 68ms/step - loss: 4733.5298 - accuracy: 0.3674 - val_loss: 2987.6013 - val_accuracy: 0.3942\n",
            "Epoch 23/30\n",
            "1182/1182 [==============================] - 83s 70ms/step - loss: 2425.0723 - accuracy: 0.3623 - val_loss: 5217.6992 - val_accuracy: 0.5454\n",
            "Epoch 24/30\n",
            "1182/1182 [==============================] - 85s 72ms/step - loss: 3007.2661 - accuracy: 0.3600 - val_loss: 22145.2969 - val_accuracy: 0.1985\n",
            "Epoch 25/30\n",
            "1182/1182 [==============================] - 80s 67ms/step - loss: 740.8815 - accuracy: 0.3529 - val_loss: 1034.8077 - val_accuracy: 0.2686\n",
            "Epoch 26/30\n",
            "1182/1182 [==============================] - 84s 71ms/step - loss: 766.9253 - accuracy: 0.3574 - val_loss: 914.6484 - val_accuracy: 0.4372\n",
            "Epoch 27/30\n",
            "1097/1182 [==========================>...] - ETA: 5s - loss: 401.3649 - accuracy: 0.3696"
          ]
        }
      ],
      "source": [
        "history = model.fit(X_train, y_train, epochs=30, batch_size=64, validation_split=0.2, class_weight=class_weights)"
      ]
    },
    {
      "cell_type": "code",
      "execution_count": null,
      "metadata": {
        "colab": {
          "base_uri": "https://localhost:8080/",
          "height": 710
        },
        "id": "-zLBX4kQ1P0_",
        "outputId": "582a6295-8ce8-4f8f-8d58-a733eba44ccb"
      },
      "outputs": [
        {
          "name": "stdout",
          "output_type": "stream",
          "text": [
            "739/739 [==============================] - 17s 23ms/step - loss: 0.5271 - accuracy: 0.7597\n",
            "739/739 [==============================] - 11s 15ms/step\n",
            "Test Loss: 0.5270573496818542\n",
            "Test Accuracy: 0.7596613764762878\n"
          ]
        },
        {
          "data": {
            "image/png": "[encoded data removed]",
            "text/plain": [
              "<Figure size 1000x700 with 2 Axes>"
            ]
          },
          "metadata": {},
          "output_type": "display_data"
        }
      ],
      "source": [
        "from sklearn.metrics import confusion_matrix\n",
        "import matplotlib.pyplot as plt\n",
        "\n",
        "loss, accuracy = model.evaluate(X_test, y_test)\n",
        "predictions = np.argmax(model.predict(X_test), axis=-1)\n",
        "print(f'Test Loss: {loss}')\n",
        "print(f'Test Accuracy: {accuracy}')\n",
        "\n",
        "confusion_matrix = confusion_matrix(y_test, predictions)\n",
        "plt.figure(figsize=(10, 7))\n",
        "sns.heatmap(confusion_matrix, annot=True, fmt='d', cmap='Blues', xticklabels=label_encoder.classes_, yticklabels=label_encoder.classes_)\n",
        "plt.title('Confusion Matrix')\n",
        "plt.xlabel('Predicted')\n",
        "plt.ylabel('Actual')\n",
        "plt.show()"
      ]
    }
  ],
  "metadata": {
    "colab": {
      "provenance": []
    },
    "kernelspec": {
      "display_name": "Python 3",
      "name": "python3"
    },
    "language_info": {
      "name": "python"
    }
  },
  "nbformat": 4,
  "nbformat_minor": 0
}
